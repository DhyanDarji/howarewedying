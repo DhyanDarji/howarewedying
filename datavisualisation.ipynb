{
 "cells": [
  {
   "cell_type": "markdown",
   "metadata": {},
   "source": [
    "# Analysing Death Data Set.\n"
   ]
  },
  {
   "cell_type": "markdown",
   "metadata": {},
   "source": [
    "### Lets start by importaing libraries"
   ]
  },
  {
   "cell_type": "code",
   "execution_count": 1,
   "metadata": {},
   "outputs": [
    {
     "name": "stderr",
     "output_type": "stream",
     "text": [
      "/Users/dhyandarji/opt/anaconda3/lib/python3.8/site-packages/IPython/core/interactiveshell.py:3165: DtypeWarning: Columns (1) have mixed types.Specify dtype option on import or set low_memory=False.\n",
      "  has_raised = await self.run_ast_nodes(code_ast.body, cell_name,\n"
     ]
    },
    {
     "name": "stdout",
     "output_type": "stream",
     "text": [
      "Collecting ffmpeg\n",
      "  Downloading ffmpeg-1.4.tar.gz (5.1 kB)\n",
      "Building wheels for collected packages: ffmpeg\n",
      "  Building wheel for ffmpeg (setup.py) ... \u001b[?25ldone\n",
      "\u001b[?25h  Created wheel for ffmpeg: filename=ffmpeg-1.4-py3-none-any.whl size=6083 sha256=57f7bcb93ae6b1c0e70beb191bf8669a381fbb1917cc7deed73558b240597c71\n",
      "  Stored in directory: /Users/dhyandarji/Library/Caches/pip/wheels/30/33/46/5ab7eca55b9490dddbf3441c68a29535996270ef1ce8b9b6d7\n",
      "Successfully built ffmpeg\n",
      "Installing collected packages: ffmpeg\n",
      "Successfully installed ffmpeg-1.4\n",
      "Password:\n",
      "\n"
     ]
    }
   ],
   "source": [
    "# read in libraries and import csv file.\n",
    "import pandas as pd\n",
    "aus = pd.read_csv('australia.csv')\n",
    "newz = pd.read_csv('newzealand.csv')\n",
    "uk = pd.read_csv('uk.csv')\n",
    "can = pd.read_csv('canada.csv')\n",
    "us = pd.read_csv('unitedstates.csv')\n",
    "allCount = pd.read_csv('combine.csv')\n",
    "\n"
   ]
  },
  {
   "cell_type": "markdown",
   "metadata": {},
   "source": [
    "### Now lets remove the uncessary columns"
   ]
  },
  {
   "cell_type": "code",
   "execution_count": 6,
   "metadata": {},
   "outputs": [],
   "source": [
    "# format the data to only keep columns of value.\n",
    "\n",
    "aus = aus[[\"Year\",\"Cause of death (WHO)\",\"Country or Area\",\"Value\"]].dropna()\n",
    "\n",
    "newz = newz[[\"Year\",\"Cause of death (WHO)\",\"Country or Area\",\"Value\"]].dropna()\n",
    "\n",
    "uk = uk[[\"Year\",\"Cause of death (WHO)\",\"Country or Area\",\"Value\"]].dropna()\n",
    "\n",
    "can = can[[\"Year\",\"Cause of death (WHO)\",\"Country or Area\",\"Value\"]].dropna()\n",
    "\n",
    "us = us[[\"Year\",\"Cause of death (WHO)\",\"Country or Area\",\"Value\"]].dropna() \n",
    "\n",
    "allCount = allCount[[\"Year\",\"Cause of death (WHO)\",\"Country or Area\",\"Value\"]].dropna()\n",
    "\n"
   ]
  },
  {
   "cell_type": "markdown",
   "metadata": {},
   "source": [
    "### Lets start with racing bar graph\n"
   ]
  },
  {
   "cell_type": "code",
   "execution_count": 8,
   "metadata": {},
   "outputs": [
    {
     "name": "stdout",
     "output_type": "stream",
     "text": [
      "Requirement already satisfied: bar_chart_race in /Users/dhyandarji/opt/anaconda3/lib/python3.8/site-packages (0.1.0)\n",
      "Requirement already satisfied: pandas>=0.24 in /Users/dhyandarji/opt/anaconda3/lib/python3.8/site-packages (from bar_chart_race) (1.2.4)\n",
      "Requirement already satisfied: matplotlib>=3.1 in /Users/dhyandarji/opt/anaconda3/lib/python3.8/site-packages (from bar_chart_race) (3.3.4)\n",
      "Requirement already satisfied: pyparsing!=2.0.4,!=2.1.2,!=2.1.6,>=2.0.3 in /Users/dhyandarji/opt/anaconda3/lib/python3.8/site-packages (from matplotlib>=3.1->bar_chart_race) (2.4.7)\n",
      "Requirement already satisfied: pillow>=6.2.0 in /Users/dhyandarji/opt/anaconda3/lib/python3.8/site-packages (from matplotlib>=3.1->bar_chart_race) (8.2.0)\n",
      "Requirement already satisfied: numpy>=1.15 in /Users/dhyandarji/opt/anaconda3/lib/python3.8/site-packages (from matplotlib>=3.1->bar_chart_race) (1.20.1)\n",
      "Requirement already satisfied: kiwisolver>=1.0.1 in /Users/dhyandarji/opt/anaconda3/lib/python3.8/site-packages (from matplotlib>=3.1->bar_chart_race) (1.3.1)\n",
      "Requirement already satisfied: cycler>=0.10 in /Users/dhyandarji/opt/anaconda3/lib/python3.8/site-packages (from matplotlib>=3.1->bar_chart_race) (0.10.0)\n",
      "Requirement already satisfied: python-dateutil>=2.1 in /Users/dhyandarji/opt/anaconda3/lib/python3.8/site-packages (from matplotlib>=3.1->bar_chart_race) (2.8.1)\n",
      "Requirement already satisfied: six in /Users/dhyandarji/opt/anaconda3/lib/python3.8/site-packages (from cycler>=0.10->matplotlib>=3.1->bar_chart_race) (1.15.0)\n",
      "Requirement already satisfied: pytz>=2017.3 in /Users/dhyandarji/opt/anaconda3/lib/python3.8/site-packages (from pandas>=0.24->bar_chart_race) (2021.1)\n"
     ]
    }
   ],
   "source": [
    "\n",
    "#install required libraries for plotting.\n",
    "\n",
    "import matplotlib.pyplot as plt\n",
    "\n",
    "## time to install bar plot api\n",
    "!pip install bar_chart_race\n",
    "\n",
    "import bar_chart_race as bcr\n",
    "\n",
    "\n",
    "\n",
    "\n"
   ]
  },
  {
   "cell_type": "markdown",
   "metadata": {},
   "source": [
    "### Let us create a histogram for all countries "
   ]
  },
  {
   "cell_type": "code",
   "execution_count": 244,
   "metadata": {},
   "outputs": [
    {
     "name": "stderr",
     "output_type": "stream",
     "text": [
      "C:\\ProgramData\\Anaconda3\\lib\\site-packages\\matplotlib\\backends\\backend_agg.py:238: RuntimeWarning: Glyph 127 missing from current font.\n",
      "  font.set_text(s, 0.0, flags=flags)\n",
      "C:\\ProgramData\\Anaconda3\\lib\\site-packages\\matplotlib\\backends\\backend_agg.py:238: RuntimeWarning: Glyph 128 missing from current font.\n",
      "  font.set_text(s, 0.0, flags=flags)\n",
      "C:\\ProgramData\\Anaconda3\\lib\\site-packages\\matplotlib\\backends\\backend_agg.py:238: RuntimeWarning: Glyph 129 missing from current font.\n",
      "  font.set_text(s, 0.0, flags=flags)\n",
      "C:\\ProgramData\\Anaconda3\\lib\\site-packages\\matplotlib\\backends\\backend_agg.py:238: RuntimeWarning: Glyph 130 missing from current font.\n",
      "  font.set_text(s, 0.0, flags=flags)\n",
      "C:\\ProgramData\\Anaconda3\\lib\\site-packages\\matplotlib\\backends\\backend_agg.py:238: RuntimeWarning: Glyph 131 missing from current font.\n",
      "  font.set_text(s, 0.0, flags=flags)\n",
      "C:\\ProgramData\\Anaconda3\\lib\\site-packages\\matplotlib\\backends\\backend_agg.py:238: RuntimeWarning: Glyph 132 missing from current font.\n",
      "  font.set_text(s, 0.0, flags=flags)\n",
      "C:\\ProgramData\\Anaconda3\\lib\\site-packages\\matplotlib\\backends\\backend_agg.py:238: RuntimeWarning: Glyph 133 missing from current font.\n",
      "  font.set_text(s, 0.0, flags=flags)\n",
      "C:\\ProgramData\\Anaconda3\\lib\\site-packages\\matplotlib\\backends\\backend_agg.py:238: RuntimeWarning: Glyph 134 missing from current font.\n",
      "  font.set_text(s, 0.0, flags=flags)\n",
      "C:\\ProgramData\\Anaconda3\\lib\\site-packages\\matplotlib\\backends\\backend_agg.py:238: RuntimeWarning: Glyph 135 missing from current font.\n",
      "  font.set_text(s, 0.0, flags=flags)\n",
      "C:\\ProgramData\\Anaconda3\\lib\\site-packages\\matplotlib\\backends\\backend_agg.py:238: RuntimeWarning: Glyph 136 missing from current font.\n",
      "  font.set_text(s, 0.0, flags=flags)\n",
      "C:\\ProgramData\\Anaconda3\\lib\\site-packages\\matplotlib\\backends\\backend_agg.py:238: RuntimeWarning: Glyph 137 missing from current font.\n",
      "  font.set_text(s, 0.0, flags=flags)\n",
      "C:\\ProgramData\\Anaconda3\\lib\\site-packages\\matplotlib\\backends\\backend_agg.py:201: RuntimeWarning: Glyph 127 missing from current font.\n",
      "  font.set_text(s, 0, flags=flags)\n",
      "C:\\ProgramData\\Anaconda3\\lib\\site-packages\\matplotlib\\backends\\backend_agg.py:201: RuntimeWarning: Glyph 128 missing from current font.\n",
      "  font.set_text(s, 0, flags=flags)\n",
      "C:\\ProgramData\\Anaconda3\\lib\\site-packages\\matplotlib\\backends\\backend_agg.py:201: RuntimeWarning: Glyph 129 missing from current font.\n",
      "  font.set_text(s, 0, flags=flags)\n",
      "C:\\ProgramData\\Anaconda3\\lib\\site-packages\\matplotlib\\backends\\backend_agg.py:201: RuntimeWarning: Glyph 130 missing from current font.\n",
      "  font.set_text(s, 0, flags=flags)\n",
      "C:\\ProgramData\\Anaconda3\\lib\\site-packages\\matplotlib\\backends\\backend_agg.py:201: RuntimeWarning: Glyph 131 missing from current font.\n",
      "  font.set_text(s, 0, flags=flags)\n",
      "C:\\ProgramData\\Anaconda3\\lib\\site-packages\\matplotlib\\backends\\backend_agg.py:201: RuntimeWarning: Glyph 132 missing from current font.\n",
      "  font.set_text(s, 0, flags=flags)\n",
      "C:\\ProgramData\\Anaconda3\\lib\\site-packages\\matplotlib\\backends\\backend_agg.py:201: RuntimeWarning: Glyph 133 missing from current font.\n",
      "  font.set_text(s, 0, flags=flags)\n",
      "C:\\ProgramData\\Anaconda3\\lib\\site-packages\\matplotlib\\backends\\backend_agg.py:201: RuntimeWarning: Glyph 134 missing from current font.\n",
      "  font.set_text(s, 0, flags=flags)\n",
      "C:\\ProgramData\\Anaconda3\\lib\\site-packages\\matplotlib\\backends\\backend_agg.py:201: RuntimeWarning: Glyph 135 missing from current font.\n",
      "  font.set_text(s, 0, flags=flags)\n",
      "C:\\ProgramData\\Anaconda3\\lib\\site-packages\\matplotlib\\backends\\backend_agg.py:201: RuntimeWarning: Glyph 136 missing from current font.\n",
      "  font.set_text(s, 0, flags=flags)\n",
      "C:\\ProgramData\\Anaconda3\\lib\\site-packages\\matplotlib\\backends\\backend_agg.py:201: RuntimeWarning: Glyph 137 missing from current font.\n",
      "  font.set_text(s, 0, flags=flags)\n",
      "C:\\ProgramData\\Anaconda3\\lib\\site-packages\\bar_chart_race\\_make_chart.py:286: UserWarning: FixedFormatter should only be used together with FixedLocator\n",
      "  ax.set_yticklabels(self.df_values.columns)\n",
      "C:\\ProgramData\\Anaconda3\\lib\\site-packages\\bar_chart_race\\_make_chart.py:287: UserWarning: FixedFormatter should only be used together with FixedLocator\n",
      "  ax.set_xticklabels([max_val] * len(ax.get_xticks()))\n"
     ]
    },
    {
     "data": {
      "image/png": "[encoded data removed]",
      "text/plain": [
       "<Figure size 432x288 with 1 Axes>"
      ]
     },
     "metadata": {
      "needs_background": "light"
     },
     "output_type": "display_data"
    }
   ],
   "source": [
    "#import numpy as np\n",
    "import matplotlib.cm as cm\n",
    "import matplotlib.colors as mcolors\n",
    "\n",
    "# Remove vague data points and clean up repetition in the data.\n",
    "\n",
    "totalCauseHist = allCount.sort_values(by=['Value'],ascending=False)\n",
    "totalCauseHist = totalCauseHist[totalCauseHist[\"Cause of death (WHO)\"]!='All causes, ICD10']\n",
    "totalCauseHist = totalCauseHist[totalCauseHist[\"Cause of death (WHO)\"]!='All causes, ICD9']\n",
    "totalCauseHist = totalCauseHist[totalCauseHist[\"Cause of death (WHO)\"]!='External causes, ICD10']\n",
    "totalCauseHist = totalCauseHist[totalCauseHist[\"Cause of death (WHO)\"]!='External causes, ICD9']\n",
    "totalCauseHist['Cause of death (WHO)'] = totalCauseHist['Cause of death (WHO)'].str.replace(', ICD9','')\n",
    "totalCauseHist['Cause of death (WHO)'] = totalCauseHist['Cause of death (WHO)'].str.replace(', ICD10','')\n",
    "\n",
    "\n",
    "# group the dataset according to the cause of death.\n",
    "j = totalCauseHist.groupby(['Cause of death (WHO)'], as_index=False).sum()\n",
    "\n",
    "#j5 = totalCauseHist.groupby([\"Year\",\"Cause of death (WHO)\"],as_index=False).sum()\n",
    "\n",
    "# group according to year and cause of death\n",
    "\n",
    "j5 = pd.read_csv('j10.csv')\n",
    "\n",
    "j5 = j5.groupby([\"Year\",\"Cause of death (WHO)\"],as_index=False).sum()\n",
    "\n",
    "# reshape data frame so that the format matches what is required for racing bar graph.\n",
    "jnew = j5.pivot(index='Year', columns='Cause of death (WHO)', values='Value')\n",
    "\n",
    "totalCauseHist.to_csv('totalCauseHist.csv')\n",
    "\n",
    "jnew.to_csv('letsgo2.csv')\n",
    "\n",
    "\n",
    "\n",
    "# racing bar graph, high dpi for high quality output.\n",
    "bcr.bar_chart_race(df=jnew,filename='video.mp4',n_bars=5,dpi=400,period_length=1000,steps_per_period=100,title='Top 5 Leading Causes of Death For AU/UK/CAN/NZ/USA (1995-2017)')\n",
    "\n",
    "\n",
    "\n",
    "\n",
    "#color=['#8a3ffc','#33b1ff','#007d79','#ff7eb6','#fa4d56','#fff1f1','#6fdc8c','#4589ff','#d12771','#d2a106']\n",
    "\n",
    "\n",
    "# Plot total deaths across the entire time frame.\n",
    "j2.plot(kind='barh',x='Cause of death (WHO)', y= 'Value', legend=False,alpha = 1, color=['#020100','#C1292E','#235789','#4E6E58','#544B3D','#F17F29','#F96900','#DCE2C8','#A8DCD1','#65DEF1'])\n",
    "plt.xlabel(\"Number of Deaths Total 1995-2017\")\n",
    "plt.title(\"Total Number of Deaths for the 5 Leading Causes of Death\",fontweight=\"bold\")\n",
    "plt.savefig('graph.png',dpi=1200,bbox_inches='tight')\n",
    "plt.show()\n",
    "\n"
   ]
  },
  {
   "cell_type": "markdown",
   "metadata": {},
   "source": [
    "### Create world map"
   ]
  },
  {
   "cell_type": "code",
   "execution_count": 14,
   "metadata": {},
   "outputs": [
    {
     "name": "stdout",
     "output_type": "stream",
     "text": [
      "Requirement already satisfied: pygal_maps_world in /Users/dhyandarji/opt/anaconda3/lib/python3.8/site-packages (1.0.2)\n",
      "Requirement already satisfied: pygal>=1.9.9 in /Users/dhyandarji/opt/anaconda3/lib/python3.8/site-packages (from pygal_maps_world) (2.4.0)\n",
      "Requirement already satisfied: pygal in /Users/dhyandarji/opt/anaconda3/lib/python3.8/site-packages (2.4.0)\n"
     ]
    }
   ],
   "source": [
    "\n",
    "#!pip install cairosvg\n",
    "\n",
    "# Sort cause of death for New Zealand\n",
    "newz = newz[newz[\"Cause of death (WHO)\"]!='All causes, ICD10']\n",
    "newz = newz[newz[\"Cause of death (WHO)\"]!='All causes, ICD9']\n",
    "newz = newz[newz[\"Cause of death (WHO)\"]!='External causes, ICD10']\n",
    "\n",
    "\n",
    "nwMax = newz.groupby(['Cause of death (WHO)']).sum()\n",
    "\n",
    "nwMax = nwMax.sort_values(by=['Value'],ascending=False)\n",
    "\n",
    "\n",
    "\n",
    "# Sort cause of death for Australia \n",
    "aus = aus[aus[\"Cause of death (WHO)\"]!='All causes, ICD10']\n",
    "aus = aus[aus[\"Cause of death (WHO)\"]!='All causes, ICD9']\n",
    "aus = aus[aus[\"Cause of death (WHO)\"]!='External causes, ICD10']\n",
    "\n",
    "\n",
    "ausMax = aus.groupby(['Cause of death (WHO)']).sum()\n",
    "\n",
    "ausMax = ausMax.groupby(['Cause of death (WHO)']).sum()\n",
    "\n",
    "ausMax = ausMax.sort_values(by=['Value'],ascending=False)\n",
    "\n",
    "# Sort cause of death for UK\n",
    "\n",
    "\n",
    "uk = uk[uk[\"Cause of death (WHO)\"]!='All causes, ICD10']\n",
    "uk = uk[uk[\"Cause of death (WHO)\"]!='All causes, ICD9']\n",
    "uk = uk[uk[\"Cause of death (WHO)\"]!='External causes, ICD10']\n",
    "\n",
    "\n",
    "ukMax = uk.groupby(['Cause of death (WHO)']).sum()\n",
    "\n",
    "ukMax = ukMax.groupby(['Cause of death (WHO)']).sum()\n",
    "\n",
    "ukMax = ukMax.sort_values(by=['Value'],ascending=False)\n",
    "\n",
    "# Sort cause of death for Canada\n",
    "\n",
    "\n",
    "can = can[can[\"Cause of death (WHO)\"]!='All causes, ICD10']\n",
    "can = can[can[\"Cause of death (WHO)\"]!='All causes, ICD9']\n",
    "can = can[can[\"Cause of death (WHO)\"]!='External causes, ICD10']\n",
    "\n",
    "\n",
    "canMax = can.groupby(['Cause of death (WHO)']).sum()\n",
    "\n",
    "canMax = canMax.groupby(['Cause of death (WHO)']).sum()\n",
    "\n",
    "canMax = canMax.sort_values(by=['Value'],ascending=False)\n",
    "\n",
    "# Sort cause of death for US\n",
    "\n",
    "\n",
    "us = us[us[\"Cause of death (WHO)\"]!='All causes, ICD10']\n",
    "us = us[us[\"Cause of death (WHO)\"]!='All causes, ICD9']\n",
    "us = us[us[\"Cause of death (WHO)\"]!='External causes, ICD10']\n",
    "\n",
    "\n",
    "usMax = us.groupby(['Cause of death (WHO)']).sum()\n",
    "\n",
    "usMax = usMax.groupby(['Cause of death (WHO)']).sum()\n",
    "\n",
    "usMax = usMax.sort_values(by=['Value'],ascending=False)\n",
    "\n",
    "\n",
    "\n",
    "\n",
    "# Install libraries for world map.\n",
    "!pip install pygal_maps_world\n",
    "\n",
    "!pip install pygal\n",
    "\n",
    "import pygal\n",
    "\n",
    "from pygal.maps.world import World\n",
    "\n",
    "from pygal.style import Style\n",
    "\n",
    "\n",
    "# setup colours and font size.\n",
    "new_style= Style(legend_font_size=10,colors=('#264653','#2A9D8F','#E9C46A','#F4A261','#E76F51'))\n",
    "\n",
    "# create world map\n",
    "deathMap= World(truncate_legend=100,legend_at_bottom=True,legend_size=10,style=new_style)\n",
    "\n",
    "# Add title and data points to the map.\n",
    "deathMap.title = \"Comparison of Leading Cause of Death for Australia, Canada, UK, USA, NZ\"\n",
    "\n",
    "deathMap.add('Circulatory system diseases',['nz'])\n",
    "\n",
    "deathMap.add('Circulatory system diseases',['au'])\n",
    "\n",
    "deathMap.add('Circulatory system diseases',['gb'])\n",
    "\n",
    "deathMap.add('Neoplasms',['ca'])\n",
    "\n",
    "deathMap.add('Circulatory system diseases',['us'])\n",
    "\n",
    "\n",
    "# render and output the file \n",
    "\n",
    "deathMap.render_to_file('deathmap.svg')\n",
    "\n",
    "deathMap.render_to_png('deatmap2.png',dpi=1200)\n"
   ]
  },
  {
   "cell_type": "code",
   "execution_count": null,
   "metadata": {},
   "outputs": [],
   "source": [
    "###Racing Bar Graph\n",
    "\n",
    "us = us[us[\"Cause of death (WHO)\"]!='All causes, ICD9']\n",
    "\n",
    "\n",
    "data1995 = totalCauseHist[totalCauseHist['Year']=='1995']"
   ]
  },
  {
   "cell_type": "code",
   "execution_count": null,
   "metadata": {},
   "outputs": [],
   "source": []
  }
 ],
 "metadata": {
  "interpreter": {
   "hash": "fe69c231c8a628a7e8decdeb8cd56cc8827791a4e9787f185879baeafd3721bf"
  },
  "kernelspec": {
   "display_name": "Python 3.8.8 64-bit ('base': conda)",
   "name": "python3"
  },
  "language_info": {
   "codemirror_mode": {
    "name": "ipython",
    "version": 3
   },
   "file_extension": ".py",
   "mimetype": "text/x-python",
   "name": "python",
   "nbconvert_exporter": "python",
   "pygments_lexer": "ipython3",
   "version": "3.8.8"
  }
 },
 "nbformat": 4,
 "nbformat_minor": 2
}
